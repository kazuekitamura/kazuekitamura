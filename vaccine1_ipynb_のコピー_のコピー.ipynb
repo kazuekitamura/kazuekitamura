{
  "nbformat": 4,
  "nbformat_minor": 0,
  "metadata": {
    "colab": {
      "name": "vaccine1.ipynb のコピー のコピー",
      "provenance": [],
      "collapsed_sections": [],
      "authorship_tag": "ABX9TyOoFMxyWeHVY05ZgWU95DIB",
      "include_colab_link": true
    },
    "kernelspec": {
      "name": "python3",
      "display_name": "Python 3"
    }
  },
  "cells": [
    {
      "cell_type": "markdown",
      "metadata": {
        "id": "view-in-github",
        "colab_type": "text"
      },
      "source": [
        "<a href=\"https://colab.research.google.com/github/kazuekitamura/kazuekitamura/blob/master/vaccine1_ipynb_%E3%81%AE%E3%82%B3%E3%83%94%E3%83%BC_%E3%81%AE%E3%82%B3%E3%83%94%E3%83%BC.ipynb\" target=\"_parent\"><img src=\"https://colab.research.google.com/assets/colab-badge.svg\" alt=\"Open In Colab\"/></a>"
      ]
    },
    {
      "cell_type": "markdown",
      "metadata": {
        "id": "AKx5O0Fg-LGA"
      },
      "source": [
        "# 背景\n",
        "　　COVID19のパンデミックにより早急で安全なワクチン開発・接種が求められている"
      ]
    },
    {
      "cell_type": "code",
      "metadata": {
        "id": "bpoK_jli-QP5"
      },
      "source": [
        ""
      ],
      "execution_count": null,
      "outputs": []
    }
  ]
}