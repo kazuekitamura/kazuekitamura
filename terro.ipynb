{
  "nbformat": 4,
  "nbformat_minor": 0,
  "metadata": {
    "kernelspec": {
      "display_name": "Python 3",
      "language": "python",
      "name": "python3"
    },
    "language_info": {
      "codemirror_mode": {
        "name": "ipython",
        "version": 3
      },
      "file_extension": ".py",
      "mimetype": "text/x-python",
      "name": "python",
      "nbconvert_exporter": "python",
      "pygments_lexer": "ipython3",
      "version": "3.9.0"
    },
    "colab": {
      "name": "terro.ipynb",
      "provenance": [],
      "collapsed_sections": [],
      "include_colab_link": true
    }
  },
  "cells": [
    {
      "cell_type": "markdown",
      "metadata": {
        "id": "view-in-github",
        "colab_type": "text"
      },
      "source": [
        "<a href=\"https://colab.research.google.com/github/kazuekitamura/kazuekitamura/blob/master/terro.ipynb\" target=\"_parent\"><img src=\"https://colab.research.google.com/assets/colab-badge.svg\" alt=\"Open In Colab\"/></a>"
      ]
    },
    {
      "cell_type": "markdown",
      "metadata": {
        "id": "9rpcSXzvD-ln"
      },
      "source": [
        "# 重回帰分析\n",
        "\n",
        "## 実現したいこと\n",
        "経済生産、社会的支援、平均寿命、自由、腐敗がない、寛大さという6つの要素などのカテゴリごとの評価（**観測変数**）を使って、幸福度評価（**観測変数**）を説明すること\n",
        "\n",
        "### 分析手法\n",
        "重回帰分析\n",
        "\n",
        "### 使用するデータの概要\n",
        "#### Chapter5 重回帰分析用のデータセット\n",
        "--[archive_2019.csv](https://www.kaggle.com/unsdsn/world-happiness?select=2019.csv)\n",
        "--[archive_2018.csv](https://www.kaggle.com/unsdsn/world-happiness?select=2018.csv)\n",
        "\n",
        "#### テーブル定義\n",
        "|物理名|論理名|値|データ型|分類|v1|v2|v3|\n",
        "|:--|:--|:--|:--|:--|-:-|-:-|-:-|\n",
        "|Overall rank|総合順位|||今回は使用しない|-|-|-|\n",
        "|Country or region|国または地域|任意の国または地域|str|今回は使用しない||-|-|\n",
        "|Score|得点|0~10|float64|目的変数|-|-|-|\n",
        "|GDP per capita|一人当たりGDP|0~|float64|説明変数|-|-|-|\n",
        "|Social support|社会的支援に関する評価|0~|float64|説明変数|-|-|-|\n",
        "|Healthy life expectancy|健康寿命|0~|float64|説明変数|-|-|-|\n",
        "|Freedom to make life choices|人生の選択の自由に関する評価|0~|float64|説明変数|-|-|-|\n",
        "|Generosity|寛大さに関する評価|0~|float64|説明変数|-|-|-|\n",
        "|Perceptions of corruption|腐敗に対する認識に関する評価|1~10|float64|説明変数|-|-|-|\n"
      ]
    },
    {
      "cell_type": "code",
      "metadata": {
        "id": "6Pk4X9ZND-lt"
      },
      "source": [
        "# データを扱うためのライブラリ\n",
        "import pandas as pd\n",
        "import numpy as np"
      ],
      "execution_count": null,
      "outputs": []
    },
    {
      "cell_type": "code",
      "metadata": {
        "id": "SudugyWnD-lt"
      },
      "source": [
        "# 行数、桁数の表示を設定する\n",
        "pd.set_option('display.max_rows', 1000)\n",
        "pd.set_option('display.max_columns', 1000)\n",
        "# 小数点以下の桁数の設定\n",
        "pd.set_option('display.float_format', '{:.3f}'.format)"
      ],
      "execution_count": null,
      "outputs": []
    },
    {
      "cell_type": "code",
      "metadata": {
        "id": "vdjQdYL7D-lu"
      },
      "source": [
        "#データの読み込み\n",
        "df = pd.read_csv('archive.csv')"
      ],
      "execution_count": null,
      "outputs": []
    },
    {
      "cell_type": "code",
      "metadata": {
        "id": "fr4_tF8HD-lu",
        "outputId": "67854955-78d2-4706-af37-b40558296a5f"
      },
      "source": [
        "df.head(3)"
      ],
      "execution_count": null,
      "outputs": [
        {
          "output_type": "execute_result",
          "data": {
            "text/html": [
              "<div>\n",
              "<style scoped>\n",
              "    .dataframe tbody tr th:only-of-type {\n",
              "        vertical-align: middle;\n",
              "    }\n",
              "\n",
              "    .dataframe tbody tr th {\n",
              "        vertical-align: top;\n",
              "    }\n",
              "\n",
              "    .dataframe thead th {\n",
              "        text-align: right;\n",
              "    }\n",
              "</style>\n",
              "<table border=\"1\" class=\"dataframe\">\n",
              "  <thead>\n",
              "    <tr style=\"text-align: right;\">\n",
              "      <th></th>\n",
              "      <th>age</th>\n",
              "      <th>anaemia</th>\n",
              "      <th>creatinine_phosphokinase</th>\n",
              "      <th>diabetes</th>\n",
              "      <th>ejection_fraction</th>\n",
              "      <th>high_blood_pressure</th>\n",
              "      <th>platelets</th>\n",
              "      <th>serum_creatinine</th>\n",
              "      <th>serum_sodium</th>\n",
              "      <th>sex</th>\n",
              "      <th>smoking</th>\n",
              "      <th>time</th>\n",
              "      <th>DEATH_EVENT</th>\n",
              "    </tr>\n",
              "  </thead>\n",
              "  <tbody>\n",
              "    <tr>\n",
              "      <th>0</th>\n",
              "      <td>75.000</td>\n",
              "      <td>0</td>\n",
              "      <td>582</td>\n",
              "      <td>0</td>\n",
              "      <td>20</td>\n",
              "      <td>1</td>\n",
              "      <td>265000.000</td>\n",
              "      <td>1.900</td>\n",
              "      <td>130</td>\n",
              "      <td>1</td>\n",
              "      <td>0</td>\n",
              "      <td>4</td>\n",
              "      <td>1</td>\n",
              "    </tr>\n",
              "    <tr>\n",
              "      <th>1</th>\n",
              "      <td>55.000</td>\n",
              "      <td>0</td>\n",
              "      <td>7861</td>\n",
              "      <td>0</td>\n",
              "      <td>38</td>\n",
              "      <td>0</td>\n",
              "      <td>263358.030</td>\n",
              "      <td>1.100</td>\n",
              "      <td>136</td>\n",
              "      <td>1</td>\n",
              "      <td>0</td>\n",
              "      <td>6</td>\n",
              "      <td>1</td>\n",
              "    </tr>\n",
              "    <tr>\n",
              "      <th>2</th>\n",
              "      <td>65.000</td>\n",
              "      <td>0</td>\n",
              "      <td>146</td>\n",
              "      <td>0</td>\n",
              "      <td>20</td>\n",
              "      <td>0</td>\n",
              "      <td>162000.000</td>\n",
              "      <td>1.300</td>\n",
              "      <td>129</td>\n",
              "      <td>1</td>\n",
              "      <td>1</td>\n",
              "      <td>7</td>\n",
              "      <td>1</td>\n",
              "    </tr>\n",
              "  </tbody>\n",
              "</table>\n",
              "</div>"
            ],
            "text/plain": [
              "     age  anaemia  creatinine_phosphokinase  diabetes  ejection_fraction  \\\n",
              "0 75.000        0                       582         0                 20   \n",
              "1 55.000        0                      7861         0                 38   \n",
              "2 65.000        0                       146         0                 20   \n",
              "\n",
              "   high_blood_pressure  platelets  serum_creatinine  serum_sodium  sex  \\\n",
              "0                    1 265000.000             1.900           130    1   \n",
              "1                    0 263358.030             1.100           136    1   \n",
              "2                    0 162000.000             1.300           129    1   \n",
              "\n",
              "   smoking  time  DEATH_EVENT  \n",
              "0        0     4            1  \n",
              "1        0     6            1  \n",
              "2        1     7            1  "
            ]
          },
          "metadata": {
            "tags": []
          },
          "execution_count": 6
        }
      ]
    },
    {
      "cell_type": "markdown",
      "metadata": {
        "id": "cg3hsuGVD-lv"
      },
      "source": [
        "正しく読み込めました"
      ]
    },
    {
      "cell_type": "code",
      "metadata": {
        "id": "Cx7WsaEwD-lv",
        "outputId": "b414d551-9012-487a-8fc0-51870f40618e"
      },
      "source": [
        "df.describe()"
      ],
      "execution_count": null,
      "outputs": [
        {
          "output_type": "execute_result",
          "data": {
            "text/html": [
              "<div>\n",
              "<style scoped>\n",
              "    .dataframe tbody tr th:only-of-type {\n",
              "        vertical-align: middle;\n",
              "    }\n",
              "\n",
              "    .dataframe tbody tr th {\n",
              "        vertical-align: top;\n",
              "    }\n",
              "\n",
              "    .dataframe thead th {\n",
              "        text-align: right;\n",
              "    }\n",
              "</style>\n",
              "<table border=\"1\" class=\"dataframe\">\n",
              "  <thead>\n",
              "    <tr style=\"text-align: right;\">\n",
              "      <th></th>\n",
              "      <th>Score</th>\n",
              "      <th>GDP per capita</th>\n",
              "      <th>Social support</th>\n",
              "      <th>Healthy life expectancy</th>\n",
              "      <th>Freedom to make life choices</th>\n",
              "      <th>Generosity</th>\n",
              "      <th>Perceptions of corruption</th>\n",
              "    </tr>\n",
              "  </thead>\n",
              "  <tbody>\n",
              "    <tr>\n",
              "      <th>count</th>\n",
              "      <td>311.000</td>\n",
              "      <td>311.000</td>\n",
              "      <td>311.000</td>\n",
              "      <td>311.000</td>\n",
              "      <td>311.000</td>\n",
              "      <td>311.000</td>\n",
              "      <td>311.000</td>\n",
              "    </tr>\n",
              "    <tr>\n",
              "      <th>mean</th>\n",
              "      <td>5.387</td>\n",
              "      <td>0.894</td>\n",
              "      <td>1.212</td>\n",
              "      <td>0.661</td>\n",
              "      <td>0.424</td>\n",
              "      <td>0.183</td>\n",
              "      <td>0.111</td>\n",
              "    </tr>\n",
              "    <tr>\n",
              "      <th>std</th>\n",
              "      <td>1.114</td>\n",
              "      <td>0.389</td>\n",
              "      <td>0.300</td>\n",
              "      <td>0.253</td>\n",
              "      <td>0.156</td>\n",
              "      <td>0.097</td>\n",
              "      <td>0.095</td>\n",
              "    </tr>\n",
              "    <tr>\n",
              "      <th>min</th>\n",
              "      <td>2.853</td>\n",
              "      <td>0.000</td>\n",
              "      <td>0.000</td>\n",
              "      <td>0.000</td>\n",
              "      <td>0.000</td>\n",
              "      <td>0.000</td>\n",
              "      <td>0.000</td>\n",
              "    </tr>\n",
              "    <tr>\n",
              "      <th>25%</th>\n",
              "      <td>4.513</td>\n",
              "      <td>0.608</td>\n",
              "      <td>1.057</td>\n",
              "      <td>0.487</td>\n",
              "      <td>0.326</td>\n",
              "      <td>0.108</td>\n",
              "      <td>0.050</td>\n",
              "    </tr>\n",
              "    <tr>\n",
              "      <th>50%</th>\n",
              "      <td>5.373</td>\n",
              "      <td>0.960</td>\n",
              "      <td>1.266</td>\n",
              "      <td>0.700</td>\n",
              "      <td>0.450</td>\n",
              "      <td>0.175</td>\n",
              "      <td>0.082</td>\n",
              "    </tr>\n",
              "    <tr>\n",
              "      <th>75%</th>\n",
              "      <td>6.174</td>\n",
              "      <td>1.215</td>\n",
              "      <td>1.458</td>\n",
              "      <td>0.859</td>\n",
              "      <td>0.540</td>\n",
              "      <td>0.245</td>\n",
              "      <td>0.141</td>\n",
              "    </tr>\n",
              "    <tr>\n",
              "      <th>max</th>\n",
              "      <td>7.769</td>\n",
              "      <td>1.684</td>\n",
              "      <td>1.644</td>\n",
              "      <td>1.141</td>\n",
              "      <td>0.724</td>\n",
              "      <td>0.598</td>\n",
              "      <td>0.457</td>\n",
              "    </tr>\n",
              "  </tbody>\n",
              "</table>\n",
              "</div>"
            ],
            "text/plain": [
              "        Score  GDP per capita  Social support  Healthy life expectancy  \\\n",
              "count 311.000         311.000         311.000                  311.000   \n",
              "mean    5.387           0.894           1.212                    0.661   \n",
              "std     1.114           0.389           0.300                    0.253   \n",
              "min     2.853           0.000           0.000                    0.000   \n",
              "25%     4.513           0.608           1.057                    0.487   \n",
              "50%     5.373           0.960           1.266                    0.700   \n",
              "75%     6.174           1.215           1.458                    0.859   \n",
              "max     7.769           1.684           1.644                    1.141   \n",
              "\n",
              "       Freedom to make life choices  Generosity  Perceptions of corruption  \n",
              "count                       311.000     311.000                    311.000  \n",
              "mean                          0.424       0.183                      0.111  \n",
              "std                           0.156       0.097                      0.095  \n",
              "min                           0.000       0.000                      0.000  \n",
              "25%                           0.326       0.108                      0.050  \n",
              "50%                           0.450       0.175                      0.082  \n",
              "75%                           0.540       0.245                      0.141  \n",
              "max                           0.724       0.598                      0.457  "
            ]
          },
          "metadata": {
            "tags": []
          },
          "execution_count": 45
        }
      ]
    },
    {
      "cell_type": "code",
      "metadata": {
        "id": "dsKwpUz2D-lv",
        "outputId": "d67c7508-031b-44c3-cf79-ac473f657c5c"
      },
      "source": [
        "#データセットの行数、列数を確認\n",
        "df.shape"
      ],
      "execution_count": null,
      "outputs": [
        {
          "output_type": "execute_result",
          "data": {
            "text/plain": [
              "(312, 9)"
            ]
          },
          "metadata": {
            "tags": []
          },
          "execution_count": 19
        }
      ]
    },
    {
      "cell_type": "code",
      "metadata": {
        "id": "S_HEw2bYD-lw",
        "outputId": "11bdeb2b-f595-4810-dfce-3c52fe94409d"
      },
      "source": [
        "# 各カラムのデータ型を確認する\n",
        "df.dtypes"
      ],
      "execution_count": null,
      "outputs": [
        {
          "output_type": "execute_result",
          "data": {
            "text/plain": [
              "Overall rank                      int64\n",
              "Country or region                object\n",
              "Score                           float64\n",
              "GDP per capita                  float64\n",
              "Social support                  float64\n",
              "Healthy life expectancy         float64\n",
              "Freedom to make life choices    float64\n",
              "Generosity                      float64\n",
              "Perceptions of corruption       float64\n",
              "dtype: object"
            ]
          },
          "metadata": {
            "tags": []
          },
          "execution_count": 20
        }
      ]
    },
    {
      "cell_type": "code",
      "metadata": {
        "id": "hdoOcLBID-lw",
        "outputId": "b0ae69e0-49bf-4cb9-ba88-0609ad939548"
      },
      "source": [
        "df.columns"
      ],
      "execution_count": null,
      "outputs": [
        {
          "output_type": "execute_result",
          "data": {
            "text/plain": [
              "Index(['Overall rank', 'Country or region', 'Score', 'GDP per capita',\n",
              "       'Social support', 'Healthy life expectancy',\n",
              "       'Freedom to make life choices', 'Generosity',\n",
              "       'Perceptions of corruption'],\n",
              "      dtype='object')"
            ]
          },
          "metadata": {
            "tags": []
          },
          "execution_count": 21
        }
      ]
    },
    {
      "cell_type": "code",
      "metadata": {
        "id": "m-6SbphuD-lw"
      },
      "source": [
        "# 削除したいcolumnを指定する\n",
        "drop_colmun = ['Overall rank', 'Country or region']\n",
        "# 削除した結果を、上書き（代入）する\n",
        "df = df.drop(drop_colmun, axis=1)"
      ],
      "execution_count": null,
      "outputs": []
    },
    {
      "cell_type": "code",
      "metadata": {
        "id": "Sy6CfhveD-lw",
        "outputId": "057ea1bc-d98a-434a-f702-798b7fc5aa95"
      },
      "source": [
        "# 実行結果を確認する\n",
        "df.head(5)"
      ],
      "execution_count": null,
      "outputs": [
        {
          "output_type": "execute_result",
          "data": {
            "text/html": [
              "<div>\n",
              "<style scoped>\n",
              "    .dataframe tbody tr th:only-of-type {\n",
              "        vertical-align: middle;\n",
              "    }\n",
              "\n",
              "    .dataframe tbody tr th {\n",
              "        vertical-align: top;\n",
              "    }\n",
              "\n",
              "    .dataframe thead th {\n",
              "        text-align: right;\n",
              "    }\n",
              "</style>\n",
              "<table border=\"1\" class=\"dataframe\">\n",
              "  <thead>\n",
              "    <tr style=\"text-align: right;\">\n",
              "      <th></th>\n",
              "      <th>Score</th>\n",
              "      <th>GDP per capita</th>\n",
              "      <th>Social support</th>\n",
              "      <th>Healthy life expectancy</th>\n",
              "      <th>Freedom to make life choices</th>\n",
              "      <th>Generosity</th>\n",
              "      <th>Perceptions of corruption</th>\n",
              "    </tr>\n",
              "  </thead>\n",
              "  <tbody>\n",
              "    <tr>\n",
              "      <th>0</th>\n",
              "      <td>7.769</td>\n",
              "      <td>1.340</td>\n",
              "      <td>1.587</td>\n",
              "      <td>0.986</td>\n",
              "      <td>0.596</td>\n",
              "      <td>0.153</td>\n",
              "      <td>0.393</td>\n",
              "    </tr>\n",
              "    <tr>\n",
              "      <th>1</th>\n",
              "      <td>7.600</td>\n",
              "      <td>1.383</td>\n",
              "      <td>1.573</td>\n",
              "      <td>0.996</td>\n",
              "      <td>0.592</td>\n",
              "      <td>0.252</td>\n",
              "      <td>0.410</td>\n",
              "    </tr>\n",
              "    <tr>\n",
              "      <th>2</th>\n",
              "      <td>7.554</td>\n",
              "      <td>1.488</td>\n",
              "      <td>1.582</td>\n",
              "      <td>1.028</td>\n",
              "      <td>0.603</td>\n",
              "      <td>0.271</td>\n",
              "      <td>0.341</td>\n",
              "    </tr>\n",
              "    <tr>\n",
              "      <th>3</th>\n",
              "      <td>7.494</td>\n",
              "      <td>1.380</td>\n",
              "      <td>1.624</td>\n",
              "      <td>1.026</td>\n",
              "      <td>0.591</td>\n",
              "      <td>0.354</td>\n",
              "      <td>0.118</td>\n",
              "    </tr>\n",
              "    <tr>\n",
              "      <th>4</th>\n",
              "      <td>7.488</td>\n",
              "      <td>1.396</td>\n",
              "      <td>1.522</td>\n",
              "      <td>0.999</td>\n",
              "      <td>0.557</td>\n",
              "      <td>0.322</td>\n",
              "      <td>0.298</td>\n",
              "    </tr>\n",
              "  </tbody>\n",
              "</table>\n",
              "</div>"
            ],
            "text/plain": [
              "   Score  GDP per capita  Social support  Healthy life expectancy  \\\n",
              "0  7.769           1.340           1.587                    0.986   \n",
              "1  7.600           1.383           1.573                    0.996   \n",
              "2  7.554           1.488           1.582                    1.028   \n",
              "3  7.494           1.380           1.624                    1.026   \n",
              "4  7.488           1.396           1.522                    0.999   \n",
              "\n",
              "   Freedom to make life choices  Generosity  Perceptions of corruption  \n",
              "0                         0.596       0.153                      0.393  \n",
              "1                         0.592       0.252                      0.410  \n",
              "2                         0.603       0.271                      0.341  \n",
              "3                         0.591       0.354                      0.118  \n",
              "4                         0.557       0.322                      0.298  "
            ]
          },
          "metadata": {
            "tags": []
          },
          "execution_count": 23
        }
      ]
    },
    {
      "cell_type": "code",
      "metadata": {
        "id": "6ALyOUc6D-lx",
        "outputId": "09ecba93-c0a1-4504-b43d-7859c4810b8a"
      },
      "source": [
        "df.columns"
      ],
      "execution_count": null,
      "outputs": [
        {
          "output_type": "execute_result",
          "data": {
            "text/plain": [
              "Index(['Score', 'GDP per capita', 'Social support', 'Healthy life expectancy',\n",
              "       'Freedom to make life choices', 'Generosity',\n",
              "       'Perceptions of corruption'],\n",
              "      dtype='object')"
            ]
          },
          "metadata": {
            "tags": []
          },
          "execution_count": 24
        }
      ]
    },
    {
      "cell_type": "code",
      "metadata": {
        "id": "lW8IlQeBD-lx",
        "outputId": "495d531f-ae87-42d3-fa77-9b4ad410c845"
      },
      "source": [
        "df.shape"
      ],
      "execution_count": null,
      "outputs": [
        {
          "output_type": "execute_result",
          "data": {
            "text/plain": [
              "(312, 7)"
            ]
          },
          "metadata": {
            "tags": []
          },
          "execution_count": 25
        }
      ]
    },
    {
      "cell_type": "markdown",
      "metadata": {
        "id": "nIr_ZhpvD-lx"
      },
      "source": [
        "不要なcolumn Overall rank, Country or regionを正しく削除できました"
      ]
    },
    {
      "cell_type": "code",
      "metadata": {
        "id": "gVp-Otd6D-lx",
        "outputId": "2f8e4b2f-3a12-4ada-ea5f-fd023a6d5ed9"
      },
      "source": [
        "# コンピュータが欠損だと認識した件数を集計してね\n",
        "df.isnull().sum()"
      ],
      "execution_count": null,
      "outputs": [
        {
          "output_type": "execute_result",
          "data": {
            "text/plain": [
              "Score                           0\n",
              "GDP per capita                  0\n",
              "Social support                  0\n",
              "Healthy life expectancy         0\n",
              "Freedom to make life choices    0\n",
              "Generosity                      0\n",
              "Perceptions of corruption       1\n",
              "dtype: int64"
            ]
          },
          "metadata": {
            "tags": []
          },
          "execution_count": 26
        }
      ]
    },
    {
      "cell_type": "code",
      "metadata": {
        "id": "KvHDo0s8D-ly",
        "outputId": "23e7ee48-57ea-4488-cf80-7e028edc10ef"
      },
      "source": [
        "# DataFrame形式で表示したい場合\n",
        "pd.DataFrame(df.isnull().sum(), columns=[\"欠損値の合計\"])"
      ],
      "execution_count": null,
      "outputs": [
        {
          "output_type": "execute_result",
          "data": {
            "text/html": [
              "<div>\n",
              "<style scoped>\n",
              "    .dataframe tbody tr th:only-of-type {\n",
              "        vertical-align: middle;\n",
              "    }\n",
              "\n",
              "    .dataframe tbody tr th {\n",
              "        vertical-align: top;\n",
              "    }\n",
              "\n",
              "    .dataframe thead th {\n",
              "        text-align: right;\n",
              "    }\n",
              "</style>\n",
              "<table border=\"1\" class=\"dataframe\">\n",
              "  <thead>\n",
              "    <tr style=\"text-align: right;\">\n",
              "      <th></th>\n",
              "      <th>欠損値の合計</th>\n",
              "    </tr>\n",
              "  </thead>\n",
              "  <tbody>\n",
              "    <tr>\n",
              "      <th>Score</th>\n",
              "      <td>0</td>\n",
              "    </tr>\n",
              "    <tr>\n",
              "      <th>GDP per capita</th>\n",
              "      <td>0</td>\n",
              "    </tr>\n",
              "    <tr>\n",
              "      <th>Social support</th>\n",
              "      <td>0</td>\n",
              "    </tr>\n",
              "    <tr>\n",
              "      <th>Healthy life expectancy</th>\n",
              "      <td>0</td>\n",
              "    </tr>\n",
              "    <tr>\n",
              "      <th>Freedom to make life choices</th>\n",
              "      <td>0</td>\n",
              "    </tr>\n",
              "    <tr>\n",
              "      <th>Generosity</th>\n",
              "      <td>0</td>\n",
              "    </tr>\n",
              "    <tr>\n",
              "      <th>Perceptions of corruption</th>\n",
              "      <td>1</td>\n",
              "    </tr>\n",
              "  </tbody>\n",
              "</table>\n",
              "</div>"
            ],
            "text/plain": [
              "                              欠損値の合計\n",
              "Score                              0\n",
              "GDP per capita                     0\n",
              "Social support                     0\n",
              "Healthy life expectancy            0\n",
              "Freedom to make life choices       0\n",
              "Generosity                         0\n",
              "Perceptions of corruption          1"
            ]
          },
          "metadata": {
            "tags": []
          },
          "execution_count": 27
        }
      ]
    },
    {
      "cell_type": "code",
      "metadata": {
        "id": "GQ6YLKcmD-ly",
        "outputId": "9cf4692c-ffcc-4336-cffc-821df2b67c73"
      },
      "source": [
        "#母数\n",
        "len(df)"
      ],
      "execution_count": null,
      "outputs": [
        {
          "output_type": "execute_result",
          "data": {
            "text/plain": [
              "312"
            ]
          },
          "metadata": {
            "tags": []
          },
          "execution_count": 28
        }
      ]
    },
    {
      "cell_type": "code",
      "metadata": {
        "id": "E45fX0OWD-ly",
        "outputId": "30d38905-8833-4dcd-f09a-da61cbaac781"
      },
      "source": [
        "# 欠損率を算出してみる\n",
        "df.isnull().sum()/len(df)*100"
      ],
      "execution_count": null,
      "outputs": [
        {
          "output_type": "execute_result",
          "data": {
            "text/plain": [
              "Score                          0.000\n",
              "GDP per capita                 0.000\n",
              "Social support                 0.000\n",
              "Healthy life expectancy        0.000\n",
              "Freedom to make life choices   0.000\n",
              "Generosity                     0.000\n",
              "Perceptions of corruption      0.321\n",
              "dtype: float64"
            ]
          },
          "metadata": {
            "tags": []
          },
          "execution_count": 29
        }
      ]
    },
    {
      "cell_type": "code",
      "metadata": {
        "id": "Jzq3TdHHD-ly"
      },
      "source": [
        "# 欠損個数を確認するメソッドを作成する\n",
        "def df_check(dataframe):\n",
        "    df = pd.concat([\n",
        "        dataframe.count().rename('件数'),\n",
        "        dataframe.dtypes.rename(\"型\"),\n",
        "        dataframe.isnull().sum().rename(\"欠損値件数\"),\n",
        "        (dataframe.isnull().sum() * 100 / dataframe.shape[0]).rename(\"欠損率 (%)\").round(2),\n",
        "    ], axis=1)\n",
        "    return df"
      ],
      "execution_count": null,
      "outputs": []
    },
    {
      "cell_type": "code",
      "metadata": {
        "id": "QRxYbYmmD-ly",
        "outputId": "83deb951-c514-4fe7-984d-4f2b12ebeadb"
      },
      "source": [
        "df_check(df)"
      ],
      "execution_count": null,
      "outputs": [
        {
          "output_type": "execute_result",
          "data": {
            "text/html": [
              "<div>\n",
              "<style scoped>\n",
              "    .dataframe tbody tr th:only-of-type {\n",
              "        vertical-align: middle;\n",
              "    }\n",
              "\n",
              "    .dataframe tbody tr th {\n",
              "        vertical-align: top;\n",
              "    }\n",
              "\n",
              "    .dataframe thead th {\n",
              "        text-align: right;\n",
              "    }\n",
              "</style>\n",
              "<table border=\"1\" class=\"dataframe\">\n",
              "  <thead>\n",
              "    <tr style=\"text-align: right;\">\n",
              "      <th></th>\n",
              "      <th>件数</th>\n",
              "      <th>型</th>\n",
              "      <th>欠損値件数</th>\n",
              "      <th>欠損率 (%)</th>\n",
              "    </tr>\n",
              "  </thead>\n",
              "  <tbody>\n",
              "    <tr>\n",
              "      <th>Score</th>\n",
              "      <td>312</td>\n",
              "      <td>float64</td>\n",
              "      <td>0</td>\n",
              "      <td>0.000</td>\n",
              "    </tr>\n",
              "    <tr>\n",
              "      <th>GDP per capita</th>\n",
              "      <td>312</td>\n",
              "      <td>float64</td>\n",
              "      <td>0</td>\n",
              "      <td>0.000</td>\n",
              "    </tr>\n",
              "    <tr>\n",
              "      <th>Social support</th>\n",
              "      <td>312</td>\n",
              "      <td>float64</td>\n",
              "      <td>0</td>\n",
              "      <td>0.000</td>\n",
              "    </tr>\n",
              "    <tr>\n",
              "      <th>Healthy life expectancy</th>\n",
              "      <td>312</td>\n",
              "      <td>float64</td>\n",
              "      <td>0</td>\n",
              "      <td>0.000</td>\n",
              "    </tr>\n",
              "    <tr>\n",
              "      <th>Freedom to make life choices</th>\n",
              "      <td>312</td>\n",
              "      <td>float64</td>\n",
              "      <td>0</td>\n",
              "      <td>0.000</td>\n",
              "    </tr>\n",
              "    <tr>\n",
              "      <th>Generosity</th>\n",
              "      <td>312</td>\n",
              "      <td>float64</td>\n",
              "      <td>0</td>\n",
              "      <td>0.000</td>\n",
              "    </tr>\n",
              "    <tr>\n",
              "      <th>Perceptions of corruption</th>\n",
              "      <td>311</td>\n",
              "      <td>float64</td>\n",
              "      <td>1</td>\n",
              "      <td>0.320</td>\n",
              "    </tr>\n",
              "  </tbody>\n",
              "</table>\n",
              "</div>"
            ],
            "text/plain": [
              "                               件数        型  欠損値件数  欠損率 (%)\n",
              "Score                         312  float64      0    0.000\n",
              "GDP per capita                312  float64      0    0.000\n",
              "Social support                312  float64      0    0.000\n",
              "Healthy life expectancy       312  float64      0    0.000\n",
              "Freedom to make life choices  312  float64      0    0.000\n",
              "Generosity                    312  float64      0    0.000\n",
              "Perceptions of corruption     311  float64      1    0.320"
            ]
          },
          "metadata": {
            "tags": []
          },
          "execution_count": 31
        }
      ]
    },
    {
      "cell_type": "markdown",
      "metadata": {
        "id": "aFhll_gbD-ly"
      },
      "source": [
        "Perceptions of corruptionの欠損率0.3％なので除外せずデータセットに含める"
      ]
    },
    {
      "cell_type": "code",
      "metadata": {
        "id": "cp-h4-JlD-lz",
        "outputId": "0b1d158c-21c1-4f96-916c-bcafa8942852"
      },
      "source": [
        "# 使用するcolumn数の最終確認\n",
        "df.shape"
      ],
      "execution_count": null,
      "outputs": [
        {
          "output_type": "execute_result",
          "data": {
            "text/plain": [
              "(312, 7)"
            ]
          },
          "metadata": {
            "tags": []
          },
          "execution_count": 32
        }
      ]
    },
    {
      "cell_type": "markdown",
      "metadata": {
        "id": "jmFSpte1D-lz"
      },
      "source": [
        "最終的に使用するcolumn数は、7列"
      ]
    },
    {
      "cell_type": "code",
      "metadata": {
        "id": "XCW-0jDYD-lz",
        "outputId": "6204061a-56e7-447a-8802-62454b4499a3"
      },
      "source": [
        "df.isnull().sum()"
      ],
      "execution_count": null,
      "outputs": [
        {
          "output_type": "execute_result",
          "data": {
            "text/plain": [
              "Score                           0\n",
              "GDP per capita                  0\n",
              "Social support                  0\n",
              "Healthy life expectancy         0\n",
              "Freedom to make life choices    0\n",
              "Generosity                      0\n",
              "Perceptions of corruption       1\n",
              "dtype: int64"
            ]
          },
          "metadata": {
            "tags": []
          },
          "execution_count": 33
        }
      ]
    },
    {
      "cell_type": "code",
      "metadata": {
        "id": "pE0H6aTXD-lz",
        "outputId": "cec1c34d-421a-42d3-b604-0b8734988a3f"
      },
      "source": [
        "# dropna()で、欠損のあるレコードを除外する\n",
        "# 今回はaxis='index'を指定して、「各列に一つでも欠損のある行を除外」する\n",
        "df = df.dropna(axis='index')\n",
        "\n",
        "df.shape"
      ],
      "execution_count": null,
      "outputs": [
        {
          "output_type": "execute_result",
          "data": {
            "text/plain": [
              "(311, 7)"
            ]
          },
          "metadata": {
            "tags": []
          },
          "execution_count": 34
        }
      ]
    },
    {
      "cell_type": "code",
      "metadata": {
        "id": "2h-No7APD-lz",
        "outputId": "d3dc8b94-6157-4f5d-c2bc-d3da94e7c0fa"
      },
      "source": [
        "# 欠損値が正しく除外されたのか確認する\n",
        "df.isnull().sum()"
      ],
      "execution_count": null,
      "outputs": [
        {
          "output_type": "execute_result",
          "data": {
            "text/plain": [
              "Score                           0\n",
              "GDP per capita                  0\n",
              "Social support                  0\n",
              "Healthy life expectancy         0\n",
              "Freedom to make life choices    0\n",
              "Generosity                      0\n",
              "Perceptions of corruption       0\n",
              "dtype: int64"
            ]
          },
          "metadata": {
            "tags": []
          },
          "execution_count": 54
        }
      ]
    },
    {
      "cell_type": "markdown",
      "metadata": {
        "id": "H0BQ65W9D-lz"
      },
      "source": [
        "使用するrecord数は、311行\n",
        "使用しない列は除外し、使用する列における欠損値を処理できたため、きれいな学習用データセットを作成できた"
      ]
    },
    {
      "cell_type": "code",
      "metadata": {
        "id": "PjbgFHBqD-l0",
        "outputId": "a2eb69ea-dcf4-4fc0-b2ad-64accda0d805"
      },
      "source": [
        "!pip install statsmodels"
      ],
      "execution_count": null,
      "outputs": [
        {
          "output_type": "stream",
          "text": [
            "Collecting statsmodels\n",
            "  Downloading statsmodels-0.12.1-cp39-cp39-macosx_10_15_x86_64.whl (9.6 MB)\n",
            "\u001b[K     |████████████████████████████████| 9.6 MB 6.8 MB/s eta 0:00:01\n",
            "\u001b[?25hRequirement already satisfied: numpy>=1.15 in /Users/kazuekitamura/.pyenv/versions/3.9.0/lib/python3.9/site-packages (from statsmodels) (1.19.5)\n",
            "Requirement already satisfied: pandas>=0.21 in /Users/kazuekitamura/.pyenv/versions/3.9.0/lib/python3.9/site-packages (from statsmodels) (1.2.0)\n",
            "Requirement already satisfied: scipy>=1.1 in /Users/kazuekitamura/.pyenv/versions/3.9.0/lib/python3.9/site-packages (from statsmodels) (1.6.0)\n",
            "Requirement already satisfied: pytz>=2017.3 in /Users/kazuekitamura/.pyenv/versions/3.9.0/lib/python3.9/site-packages (from pandas>=0.21->statsmodels) (2020.5)\n",
            "Requirement already satisfied: python-dateutil>=2.7.3 in /Users/kazuekitamura/.pyenv/versions/3.9.0/lib/python3.9/site-packages (from pandas>=0.21->statsmodels) (2.8.1)\n",
            "Collecting patsy>=0.5\n",
            "  Downloading patsy-0.5.1-py2.py3-none-any.whl (231 kB)\n",
            "\u001b[K     |████████████████████████████████| 231 kB 11.6 MB/s eta 0:00:01\n",
            "\u001b[?25hRequirement already satisfied: six in /Users/kazuekitamura/.pyenv/versions/3.9.0/lib/python3.9/site-packages (from patsy>=0.5->statsmodels) (1.15.0)\n",
            "Installing collected packages: patsy, statsmodels\n",
            "Successfully installed patsy-0.5.1 statsmodels-0.12.1\n"
          ],
          "name": "stdout"
        }
      ]
    },
    {
      "cell_type": "code",
      "metadata": {
        "scrolled": true,
        "id": "XiO_ctQND-l0"
      },
      "source": [
        "# 重回帰分析に必要なライブラリをインポートする\n",
        "import statsmodels.api as sm"
      ],
      "execution_count": null,
      "outputs": []
    },
    {
      "cell_type": "code",
      "metadata": {
        "id": "zlT-FjVuD-l0"
      },
      "source": [
        "# 学習用データセットの準備(dfを作る)\n",
        "\n",
        "# データ分割パート１　X、Yにそれぞれ説明変数、目的変数を指定する\n",
        "# drop()でXに代入するときに、目的変数'total_score'を除外する。[[]]二重にするとpdでデータフレームに入る\n",
        "X = df.drop(['Score'], axis=\"columns\")\n",
        "Y = df[['Score']]\n",
        "# 今回は飛ばすstep3,データ分割step２　訓練データと検証データに分ける（汎用性能を高めるため）\n",
        "# 汎用性能とは、どんなデータを入れても、良い予測精度（よく正解する）のモデルを高めるための指標\n",
        "# step4最小二乗法（OLS）という考え方をもとに、重回帰分析の実行、model = sm.OLS(Y, X)インスタンスの生成、fit()学習を実行\n",
        "model = sm.OLS(Y, X).fit()"
      ],
      "execution_count": null,
      "outputs": []
    },
    {
      "cell_type": "code",
      "metadata": {
        "id": "dI6hOTz5D-l0",
        "outputId": "89b29de6-16eb-4c02-f7a9-4ccbe5e5e512"
      },
      "source": [
        "# 重回帰分析の結果を表示する\n",
        "model.summary()"
      ],
      "execution_count": null,
      "outputs": [
        {
          "output_type": "execute_result",
          "data": {
            "text/html": [
              "<table class=\"simpletable\">\n",
              "<caption>OLS Regression Results</caption>\n",
              "<tr>\n",
              "  <th>Dep. Variable:</th>          <td>Score</td>      <th>  R-squared (uncentered):</th>      <td>   0.986</td> \n",
              "</tr>\n",
              "<tr>\n",
              "  <th>Model:</th>                   <td>OLS</td>       <th>  Adj. R-squared (uncentered):</th> <td>   0.986</td> \n",
              "</tr>\n",
              "<tr>\n",
              "  <th>Method:</th>             <td>Least Squares</td>  <th>  F-statistic:       </th>          <td>   3713.</td> \n",
              "</tr>\n",
              "<tr>\n",
              "  <th>Date:</th>             <td>Mon, 25 Jan 2021</td> <th>  Prob (F-statistic):</th>          <td>9.15e-282</td>\n",
              "</tr>\n",
              "<tr>\n",
              "  <th>Time:</th>                 <td>15:37:21</td>     <th>  Log-Likelihood:    </th>          <td> -302.12</td> \n",
              "</tr>\n",
              "<tr>\n",
              "  <th>No. Observations:</th>      <td>   311</td>      <th>  AIC:               </th>          <td>   616.2</td> \n",
              "</tr>\n",
              "<tr>\n",
              "  <th>Df Residuals:</th>          <td>   305</td>      <th>  BIC:               </th>          <td>   638.7</td> \n",
              "</tr>\n",
              "<tr>\n",
              "  <th>Df Model:</th>              <td>     6</td>      <th>                     </th>              <td> </td>    \n",
              "</tr>\n",
              "<tr>\n",
              "  <th>Covariance Type:</th>      <td>nonrobust</td>    <th>                     </th>              <td> </td>    \n",
              "</tr>\n",
              "</table>\n",
              "<table class=\"simpletable\">\n",
              "<tr>\n",
              "                <td></td>                  <th>coef</th>     <th>std err</th>      <th>t</th>      <th>P>|t|</th>  <th>[0.025</th>    <th>0.975]</th>  \n",
              "</tr>\n",
              "<tr>\n",
              "  <th>GDP per capita</th>               <td>    0.3771</td> <td>    0.187</td> <td>    2.020</td> <td> 0.044</td> <td>    0.010</td> <td>    0.744</td>\n",
              "</tr>\n",
              "<tr>\n",
              "  <th>Social support</th>               <td>    2.3354</td> <td>    0.153</td> <td>   15.307</td> <td> 0.000</td> <td>    2.035</td> <td>    2.636</td>\n",
              "</tr>\n",
              "<tr>\n",
              "  <th>Healthy life expectancy</th>      <td>    1.4007</td> <td>    0.261</td> <td>    5.372</td> <td> 0.000</td> <td>    0.888</td> <td>    1.914</td>\n",
              "</tr>\n",
              "<tr>\n",
              "  <th>Freedom to make life choices</th> <td>    1.9065</td> <td>    0.285</td> <td>    6.684</td> <td> 0.000</td> <td>    1.345</td> <td>    2.468</td>\n",
              "</tr>\n",
              "<tr>\n",
              "  <th>Generosity</th>                   <td>    1.9178</td> <td>    0.395</td> <td>    4.856</td> <td> 0.000</td> <td>    1.141</td> <td>    2.695</td>\n",
              "</tr>\n",
              "<tr>\n",
              "  <th>Perceptions of corruption</th>    <td>    0.4887</td> <td>    0.461</td> <td>    1.060</td> <td> 0.290</td> <td>   -0.419</td> <td>    1.396</td>\n",
              "</tr>\n",
              "</table>\n",
              "<table class=\"simpletable\">\n",
              "<tr>\n",
              "  <th>Omnibus:</th>       <td> 5.157</td> <th>  Durbin-Watson:     </th> <td>   2.063</td>\n",
              "</tr>\n",
              "<tr>\n",
              "  <th>Prob(Omnibus):</th> <td> 0.076</td> <th>  Jarque-Bera (JB):  </th> <td>   5.846</td>\n",
              "</tr>\n",
              "<tr>\n",
              "  <th>Skew:</th>          <td> 0.168</td> <th>  Prob(JB):          </th> <td>  0.0538</td>\n",
              "</tr>\n",
              "<tr>\n",
              "  <th>Kurtosis:</th>      <td> 3.581</td> <th>  Cond. No.          </th> <td>    24.3</td>\n",
              "</tr>\n",
              "</table><br/><br/>Notes:<br/>[1] R² is computed without centering (uncentered) since the model does not contain a constant.<br/>[2] Standard Errors assume that the covariance matrix of the errors is correctly specified."
            ],
            "text/plain": [
              "<class 'statsmodels.iolib.summary.Summary'>\n",
              "\"\"\"\n",
              "                                 OLS Regression Results                                \n",
              "=======================================================================================\n",
              "Dep. Variable:                  Score   R-squared (uncentered):                   0.986\n",
              "Model:                            OLS   Adj. R-squared (uncentered):              0.986\n",
              "Method:                 Least Squares   F-statistic:                              3713.\n",
              "Date:                Mon, 25 Jan 2021   Prob (F-statistic):                   9.15e-282\n",
              "Time:                        15:37:21   Log-Likelihood:                         -302.12\n",
              "No. Observations:                 311   AIC:                                      616.2\n",
              "Df Residuals:                     305   BIC:                                      638.7\n",
              "Df Model:                           6                                                  \n",
              "Covariance Type:            nonrobust                                                  \n",
              "================================================================================================\n",
              "                                   coef    std err          t      P>|t|      [0.025      0.975]\n",
              "------------------------------------------------------------------------------------------------\n",
              "GDP per capita                   0.3771      0.187      2.020      0.044       0.010       0.744\n",
              "Social support                   2.3354      0.153     15.307      0.000       2.035       2.636\n",
              "Healthy life expectancy          1.4007      0.261      5.372      0.000       0.888       1.914\n",
              "Freedom to make life choices     1.9065      0.285      6.684      0.000       1.345       2.468\n",
              "Generosity                       1.9178      0.395      4.856      0.000       1.141       2.695\n",
              "Perceptions of corruption        0.4887      0.461      1.060      0.290      -0.419       1.396\n",
              "==============================================================================\n",
              "Omnibus:                        5.157   Durbin-Watson:                   2.063\n",
              "Prob(Omnibus):                  0.076   Jarque-Bera (JB):                5.846\n",
              "Skew:                           0.168   Prob(JB):                       0.0538\n",
              "Kurtosis:                       3.581   Cond. No.                         24.3\n",
              "==============================================================================\n",
              "\n",
              "Notes:\n",
              "[1] R² is computed without centering (uncentered) since the model does not contain a constant.\n",
              "[2] Standard Errors assume that the covariance matrix of the errors is correctly specified.\n",
              "\"\"\""
            ]
          },
          "metadata": {
            "tags": []
          },
          "execution_count": 44
        }
      ]
    },
    {
      "cell_type": "markdown",
      "metadata": {
        "id": "GbegI4T6D-l0"
      },
      "source": [
        "## 結論\n",
        "- 7個の説明変数から幸福度を説明するモデルを構築できた\n",
        "\n",
        "### 分析結果\n",
        "\n",
        "|指標|詳細|\n",
        "|:--|:--|\n",
        "|Adj. R-squared (uncentered)|0.986|\n",
        "|P値が0.05以上|下記|\n",
        "\n",
        "P>|t|のなかに0.05（一般論として）よりおおきいものがあるかを見つける\n",
        "\n",
        "|説明変数|P値|\n",
        "|:--|:--|\n",
        "|Perceptions of corruption|0.290|\n",
        "\n",
        "### 考察\n",
        "- `Adj. R-squared (uncentered)`が1に近い**0.986**であるため、幸福度を7個のカテゴリで説明できた\n",
        "- しかし、P値が0.05以上である説明変数が1つ存在した（`Perceptions of corruption`）\n",
        "- これらを除外して、重回帰モデルを構築しなければ、**それぞれの説明変数は目的変数（総合満足度）に影響を与えないという仮説を否定できない**\n",
        "- そのため、目的変数（幸福度）にそれぞれの説明変数は影響を与えていることを示すために、最終的には対象の1カテゴリの満足度を除外する必要がある"
      ]
    },
    {
      "cell_type": "code",
      "metadata": {
        "id": "mq1Y0s2gD-l0",
        "outputId": "72ea4d1d-da01-42de-c64e-e0e7817919c4"
      },
      "source": [
        "df.describe()"
      ],
      "execution_count": null,
      "outputs": [
        {
          "output_type": "execute_result",
          "data": {
            "text/html": [
              "<div>\n",
              "<style scoped>\n",
              "    .dataframe tbody tr th:only-of-type {\n",
              "        vertical-align: middle;\n",
              "    }\n",
              "\n",
              "    .dataframe tbody tr th {\n",
              "        vertical-align: top;\n",
              "    }\n",
              "\n",
              "    .dataframe thead th {\n",
              "        text-align: right;\n",
              "    }\n",
              "</style>\n",
              "<table border=\"1\" class=\"dataframe\">\n",
              "  <thead>\n",
              "    <tr style=\"text-align: right;\">\n",
              "      <th></th>\n",
              "      <th>Score</th>\n",
              "      <th>GDP per capita</th>\n",
              "      <th>Social support</th>\n",
              "      <th>Healthy life expectancy</th>\n",
              "      <th>Freedom to make life choices</th>\n",
              "      <th>Generosity</th>\n",
              "      <th>Perceptions of corruption</th>\n",
              "    </tr>\n",
              "  </thead>\n",
              "  <tbody>\n",
              "    <tr>\n",
              "      <th>count</th>\n",
              "      <td>311.000</td>\n",
              "      <td>311.000</td>\n",
              "      <td>311.000</td>\n",
              "      <td>311.000</td>\n",
              "      <td>311.000</td>\n",
              "      <td>311.000</td>\n",
              "      <td>311.000</td>\n",
              "    </tr>\n",
              "    <tr>\n",
              "      <th>mean</th>\n",
              "      <td>5.387</td>\n",
              "      <td>0.894</td>\n",
              "      <td>1.212</td>\n",
              "      <td>0.661</td>\n",
              "      <td>0.424</td>\n",
              "      <td>0.183</td>\n",
              "      <td>0.111</td>\n",
              "    </tr>\n",
              "    <tr>\n",
              "      <th>std</th>\n",
              "      <td>1.114</td>\n",
              "      <td>0.389</td>\n",
              "      <td>0.300</td>\n",
              "      <td>0.253</td>\n",
              "      <td>0.156</td>\n",
              "      <td>0.097</td>\n",
              "      <td>0.095</td>\n",
              "    </tr>\n",
              "    <tr>\n",
              "      <th>min</th>\n",
              "      <td>2.853</td>\n",
              "      <td>0.000</td>\n",
              "      <td>0.000</td>\n",
              "      <td>0.000</td>\n",
              "      <td>0.000</td>\n",
              "      <td>0.000</td>\n",
              "      <td>0.000</td>\n",
              "    </tr>\n",
              "    <tr>\n",
              "      <th>25%</th>\n",
              "      <td>4.513</td>\n",
              "      <td>0.608</td>\n",
              "      <td>1.057</td>\n",
              "      <td>0.487</td>\n",
              "      <td>0.326</td>\n",
              "      <td>0.108</td>\n",
              "      <td>0.050</td>\n",
              "    </tr>\n",
              "    <tr>\n",
              "      <th>50%</th>\n",
              "      <td>5.373</td>\n",
              "      <td>0.960</td>\n",
              "      <td>1.266</td>\n",
              "      <td>0.700</td>\n",
              "      <td>0.450</td>\n",
              "      <td>0.175</td>\n",
              "      <td>0.082</td>\n",
              "    </tr>\n",
              "    <tr>\n",
              "      <th>75%</th>\n",
              "      <td>6.174</td>\n",
              "      <td>1.215</td>\n",
              "      <td>1.458</td>\n",
              "      <td>0.859</td>\n",
              "      <td>0.540</td>\n",
              "      <td>0.245</td>\n",
              "      <td>0.141</td>\n",
              "    </tr>\n",
              "    <tr>\n",
              "      <th>max</th>\n",
              "      <td>7.769</td>\n",
              "      <td>1.684</td>\n",
              "      <td>1.644</td>\n",
              "      <td>1.141</td>\n",
              "      <td>0.724</td>\n",
              "      <td>0.598</td>\n",
              "      <td>0.457</td>\n",
              "    </tr>\n",
              "  </tbody>\n",
              "</table>\n",
              "</div>"
            ],
            "text/plain": [
              "        Score  GDP per capita  Social support  Healthy life expectancy  \\\n",
              "count 311.000         311.000         311.000                  311.000   \n",
              "mean    5.387           0.894           1.212                    0.661   \n",
              "std     1.114           0.389           0.300                    0.253   \n",
              "min     2.853           0.000           0.000                    0.000   \n",
              "25%     4.513           0.608           1.057                    0.487   \n",
              "50%     5.373           0.960           1.266                    0.700   \n",
              "75%     6.174           1.215           1.458                    0.859   \n",
              "max     7.769           1.684           1.644                    1.141   \n",
              "\n",
              "       Freedom to make life choices  Generosity  Perceptions of corruption  \n",
              "count                       311.000     311.000                    311.000  \n",
              "mean                          0.424       0.183                      0.111  \n",
              "std                           0.156       0.097                      0.095  \n",
              "min                           0.000       0.000                      0.000  \n",
              "25%                           0.326       0.108                      0.050  \n",
              "50%                           0.450       0.175                      0.082  \n",
              "75%                           0.540       0.245                      0.141  \n",
              "max                           0.724       0.598                      0.457  "
            ]
          },
          "metadata": {
            "tags": []
          },
          "execution_count": 46
        }
      ]
    },
    {
      "cell_type": "code",
      "metadata": {
        "id": "DoglTv3sD-l1",
        "outputId": "51bdb1f4-bb59-4d2f-e89b-06331cdb55be"
      },
      "source": [
        "# 可視化には、「matplotlib」と「seaborn」を用いる\n",
        "import matplotlib.pyplot as plt\n",
        "import seaborn as sns\n",
        "\n",
        "# 箱ひげ図\n",
        "sns.boxplot(data=df)"
      ],
      "execution_count": null,
      "outputs": [
        {
          "output_type": "execute_result",
          "data": {
            "text/plain": [
              "<AxesSubplot:>"
            ]
          },
          "metadata": {
            "tags": []
          },
          "execution_count": 47
        },
        {
          "output_type": "display_data",
          "data": {
            "image/png": "[encoded data removed]",
            "text/plain": [
              "<Figure size 432x288 with 1 Axes>"
            ]
          },
          "metadata": {
            "tags": [],
            "needs_background": "light"
          }
        }
      ]
    },
    {
      "cell_type": "code",
      "metadata": {
        "id": "9NzZfpwaD-l1",
        "outputId": "7d5db5f3-c254-4867-ce9b-80766e801fa2"
      },
      "source": [
        "# 図のサイズを決定\n",
        "plt.figure(figsize=(10, 7))\n",
        "\n",
        "# 箱ひげ図\n",
        "sns.boxplot(data=df, orient='h')"
      ],
      "execution_count": null,
      "outputs": [
        {
          "output_type": "execute_result",
          "data": {
            "text/plain": [
              "<AxesSubplot:>"
            ]
          },
          "metadata": {
            "tags": []
          },
          "execution_count": 48
        },
        {
          "output_type": "display_data",
          "data": {
            "image/png": "[encoded data removed]",
            "text/plain": [
              "<Figure size 720x504 with 1 Axes>"
            ]
          },
          "metadata": {
            "tags": [],
            "needs_background": "light"
          }
        }
      ]
    },
    {
      "cell_type": "code",
      "metadata": {
        "id": "v9etHDDhD-l1",
        "outputId": "26793f7b-fc0b-4e01-94d1-8100938d9dd6"
      },
      "source": [
        "#スピアマンの順位相関係数（正規分布を仮定していない状態で、相関係数出すから）\n",
        "df.corr(method='spearman')"
      ],
      "execution_count": null,
      "outputs": [
        {
          "output_type": "execute_result",
          "data": {
            "text/html": [
              "<div>\n",
              "<style scoped>\n",
              "    .dataframe tbody tr th:only-of-type {\n",
              "        vertical-align: middle;\n",
              "    }\n",
              "\n",
              "    .dataframe tbody tr th {\n",
              "        vertical-align: top;\n",
              "    }\n",
              "\n",
              "    .dataframe thead th {\n",
              "        text-align: right;\n",
              "    }\n",
              "</style>\n",
              "<table border=\"1\" class=\"dataframe\">\n",
              "  <thead>\n",
              "    <tr style=\"text-align: right;\">\n",
              "      <th></th>\n",
              "      <th>Score</th>\n",
              "      <th>GDP per capita</th>\n",
              "      <th>Social support</th>\n",
              "      <th>Healthy life expectancy</th>\n",
              "      <th>Freedom to make life choices</th>\n",
              "      <th>Generosity</th>\n",
              "      <th>Perceptions of corruption</th>\n",
              "    </tr>\n",
              "  </thead>\n",
              "  <tbody>\n",
              "    <tr>\n",
              "      <th>Score</th>\n",
              "      <td>1.000</td>\n",
              "      <td>0.817</td>\n",
              "      <td>0.806</td>\n",
              "      <td>0.786</td>\n",
              "      <td>0.526</td>\n",
              "      <td>0.092</td>\n",
              "      <td>0.232</td>\n",
              "    </tr>\n",
              "    <tr>\n",
              "      <th>GDP per capita</th>\n",
              "      <td>0.817</td>\n",
              "      <td>1.000</td>\n",
              "      <td>0.756</td>\n",
              "      <td>0.842</td>\n",
              "      <td>0.366</td>\n",
              "      <td>-0.025</td>\n",
              "      <td>0.230</td>\n",
              "    </tr>\n",
              "    <tr>\n",
              "      <th>Social support</th>\n",
              "      <td>0.806</td>\n",
              "      <td>0.756</td>\n",
              "      <td>1.000</td>\n",
              "      <td>0.685</td>\n",
              "      <td>0.433</td>\n",
              "      <td>0.029</td>\n",
              "      <td>0.128</td>\n",
              "    </tr>\n",
              "    <tr>\n",
              "      <th>Healthy life expectancy</th>\n",
              "      <td>0.786</td>\n",
              "      <td>0.842</td>\n",
              "      <td>0.685</td>\n",
              "      <td>1.000</td>\n",
              "      <td>0.309</td>\n",
              "      <td>0.017</td>\n",
              "      <td>0.182</td>\n",
              "    </tr>\n",
              "    <tr>\n",
              "      <th>Freedom to make life choices</th>\n",
              "      <td>0.526</td>\n",
              "      <td>0.366</td>\n",
              "      <td>0.433</td>\n",
              "      <td>0.309</td>\n",
              "      <td>1.000</td>\n",
              "      <td>0.316</td>\n",
              "      <td>0.410</td>\n",
              "    </tr>\n",
              "    <tr>\n",
              "      <th>Generosity</th>\n",
              "      <td>0.092</td>\n",
              "      <td>-0.025</td>\n",
              "      <td>0.029</td>\n",
              "      <td>0.017</td>\n",
              "      <td>0.316</td>\n",
              "      <td>1.000</td>\n",
              "      <td>0.288</td>\n",
              "    </tr>\n",
              "    <tr>\n",
              "      <th>Perceptions of corruption</th>\n",
              "      <td>0.232</td>\n",
              "      <td>0.230</td>\n",
              "      <td>0.128</td>\n",
              "      <td>0.182</td>\n",
              "      <td>0.410</td>\n",
              "      <td>0.288</td>\n",
              "      <td>1.000</td>\n",
              "    </tr>\n",
              "  </tbody>\n",
              "</table>\n",
              "</div>"
            ],
            "text/plain": [
              "                              Score  GDP per capita  Social support  \\\n",
              "Score                         1.000           0.817           0.806   \n",
              "GDP per capita                0.817           1.000           0.756   \n",
              "Social support                0.806           0.756           1.000   \n",
              "Healthy life expectancy       0.786           0.842           0.685   \n",
              "Freedom to make life choices  0.526           0.366           0.433   \n",
              "Generosity                    0.092          -0.025           0.029   \n",
              "Perceptions of corruption     0.232           0.230           0.128   \n",
              "\n",
              "                              Healthy life expectancy  \\\n",
              "Score                                           0.786   \n",
              "GDP per capita                                  0.842   \n",
              "Social support                                  0.685   \n",
              "Healthy life expectancy                         1.000   \n",
              "Freedom to make life choices                    0.309   \n",
              "Generosity                                      0.017   \n",
              "Perceptions of corruption                       0.182   \n",
              "\n",
              "                              Freedom to make life choices  Generosity  \\\n",
              "Score                                                0.526       0.092   \n",
              "GDP per capita                                       0.366      -0.025   \n",
              "Social support                                       0.433       0.029   \n",
              "Healthy life expectancy                              0.309       0.017   \n",
              "Freedom to make life choices                         1.000       0.316   \n",
              "Generosity                                           0.316       1.000   \n",
              "Perceptions of corruption                            0.410       0.288   \n",
              "\n",
              "                              Perceptions of corruption  \n",
              "Score                                             0.232  \n",
              "GDP per capita                                    0.230  \n",
              "Social support                                    0.128  \n",
              "Healthy life expectancy                           0.182  \n",
              "Freedom to make life choices                      0.410  \n",
              "Generosity                                        0.288  \n",
              "Perceptions of corruption                         1.000  "
            ]
          },
          "metadata": {
            "tags": []
          },
          "execution_count": 49
        }
      ]
    },
    {
      "cell_type": "code",
      "metadata": {
        "id": "sLBqlD4pD-l1",
        "outputId": "ac69257d-7918-4de3-9f6c-12f06f378cce"
      },
      "source": [
        "# 正規分布だったらピアソンの相関係数が一般的\n",
        "df.corr(method='pearson')"
      ],
      "execution_count": null,
      "outputs": [
        {
          "output_type": "execute_result",
          "data": {
            "text/html": [
              "<div>\n",
              "<style scoped>\n",
              "    .dataframe tbody tr th:only-of-type {\n",
              "        vertical-align: middle;\n",
              "    }\n",
              "\n",
              "    .dataframe tbody tr th {\n",
              "        vertical-align: top;\n",
              "    }\n",
              "\n",
              "    .dataframe thead th {\n",
              "        text-align: right;\n",
              "    }\n",
              "</style>\n",
              "<table border=\"1\" class=\"dataframe\">\n",
              "  <thead>\n",
              "    <tr style=\"text-align: right;\">\n",
              "      <th></th>\n",
              "      <th>Score</th>\n",
              "      <th>GDP per capita</th>\n",
              "      <th>Social support</th>\n",
              "      <th>Healthy life expectancy</th>\n",
              "      <th>Freedom to make life choices</th>\n",
              "      <th>Generosity</th>\n",
              "      <th>Perceptions of corruption</th>\n",
              "    </tr>\n",
              "  </thead>\n",
              "  <tbody>\n",
              "    <tr>\n",
              "      <th>Score</th>\n",
              "      <td>1.000</td>\n",
              "      <td>0.800</td>\n",
              "      <td>0.771</td>\n",
              "      <td>0.758</td>\n",
              "      <td>0.546</td>\n",
              "      <td>0.107</td>\n",
              "      <td>0.395</td>\n",
              "    </tr>\n",
              "    <tr>\n",
              "      <th>GDP per capita</th>\n",
              "      <td>0.800</td>\n",
              "      <td>1.000</td>\n",
              "      <td>0.741</td>\n",
              "      <td>0.829</td>\n",
              "      <td>0.358</td>\n",
              "      <td>-0.046</td>\n",
              "      <td>0.309</td>\n",
              "    </tr>\n",
              "    <tr>\n",
              "      <th>Social support</th>\n",
              "      <td>0.771</td>\n",
              "      <td>0.741</td>\n",
              "      <td>1.000</td>\n",
              "      <td>0.671</td>\n",
              "      <td>0.418</td>\n",
              "      <td>-0.014</td>\n",
              "      <td>0.200</td>\n",
              "    </tr>\n",
              "    <tr>\n",
              "      <th>Healthy life expectancy</th>\n",
              "      <td>0.758</td>\n",
              "      <td>0.829</td>\n",
              "      <td>0.671</td>\n",
              "      <td>1.000</td>\n",
              "      <td>0.302</td>\n",
              "      <td>0.001</td>\n",
              "      <td>0.294</td>\n",
              "    </tr>\n",
              "    <tr>\n",
              "      <th>Freedom to make life choices</th>\n",
              "      <td>0.546</td>\n",
              "      <td>0.358</td>\n",
              "      <td>0.418</td>\n",
              "      <td>0.302</td>\n",
              "      <td>1.000</td>\n",
              "      <td>0.275</td>\n",
              "      <td>0.443</td>\n",
              "    </tr>\n",
              "    <tr>\n",
              "      <th>Generosity</th>\n",
              "      <td>0.107</td>\n",
              "      <td>-0.046</td>\n",
              "      <td>-0.014</td>\n",
              "      <td>0.001</td>\n",
              "      <td>0.275</td>\n",
              "      <td>1.000</td>\n",
              "      <td>0.345</td>\n",
              "    </tr>\n",
              "    <tr>\n",
              "      <th>Perceptions of corruption</th>\n",
              "      <td>0.395</td>\n",
              "      <td>0.309</td>\n",
              "      <td>0.200</td>\n",
              "      <td>0.294</td>\n",
              "      <td>0.443</td>\n",
              "      <td>0.345</td>\n",
              "      <td>1.000</td>\n",
              "    </tr>\n",
              "  </tbody>\n",
              "</table>\n",
              "</div>"
            ],
            "text/plain": [
              "                              Score  GDP per capita  Social support  \\\n",
              "Score                         1.000           0.800           0.771   \n",
              "GDP per capita                0.800           1.000           0.741   \n",
              "Social support                0.771           0.741           1.000   \n",
              "Healthy life expectancy       0.758           0.829           0.671   \n",
              "Freedom to make life choices  0.546           0.358           0.418   \n",
              "Generosity                    0.107          -0.046          -0.014   \n",
              "Perceptions of corruption     0.395           0.309           0.200   \n",
              "\n",
              "                              Healthy life expectancy  \\\n",
              "Score                                           0.758   \n",
              "GDP per capita                                  0.829   \n",
              "Social support                                  0.671   \n",
              "Healthy life expectancy                         1.000   \n",
              "Freedom to make life choices                    0.302   \n",
              "Generosity                                      0.001   \n",
              "Perceptions of corruption                       0.294   \n",
              "\n",
              "                              Freedom to make life choices  Generosity  \\\n",
              "Score                                                0.546       0.107   \n",
              "GDP per capita                                       0.358      -0.046   \n",
              "Social support                                       0.418      -0.014   \n",
              "Healthy life expectancy                              0.302       0.001   \n",
              "Freedom to make life choices                         1.000       0.275   \n",
              "Generosity                                           0.275       1.000   \n",
              "Perceptions of corruption                            0.443       0.345   \n",
              "\n",
              "                              Perceptions of corruption  \n",
              "Score                                             0.395  \n",
              "GDP per capita                                    0.309  \n",
              "Social support                                    0.200  \n",
              "Healthy life expectancy                           0.294  \n",
              "Freedom to make life choices                      0.443  \n",
              "Generosity                                        0.345  \n",
              "Perceptions of corruption                         1.000  "
            ]
          },
          "metadata": {
            "tags": []
          },
          "execution_count": 50
        }
      ]
    },
    {
      "cell_type": "code",
      "metadata": {
        "id": "-RpY3WiFD-l1",
        "outputId": "158c670d-223b-4e4f-ede0-b0e9cc9c32fb"
      },
      "source": [
        "# デザイン設定\n",
        "sns.set_theme(style=\"white\")\n",
        "\n",
        "# 出力した相関係数一覧をcorrに代入\n",
        "corr = df.corr(method='spearman')\n",
        "\n",
        "# 下記はきれいに表示するためのカスタマイズなので特別期にしなくてよい\n",
        "# Generate a mask for the upper triangle\n",
        "mask = np.triu(np.ones_like(corr, dtype=bool))\n",
        "\n",
        "# Set up the matplotlib figure\n",
        "f, ax = plt.subplots(figsize=(11, 9))\n",
        "\n",
        "# Generate a custom diverging colormap\n",
        "cmap = sns.diverging_palette(230, 20, as_cmap=True)\n",
        "\n",
        "# 可視化\n",
        "sns.heatmap(corr, mask=mask, annot=True, cmap=cmap)"
      ],
      "execution_count": null,
      "outputs": [
        {
          "output_type": "execute_result",
          "data": {
            "text/plain": [
              "<AxesSubplot:>"
            ]
          },
          "metadata": {
            "tags": []
          },
          "execution_count": 51
        },
        {
          "output_type": "display_data",
          "data": {
            "image/png": "[encoded data removed]",
            "text/plain": [
              "<Figure size 792x648 with 2 Axes>"
            ]
          },
          "metadata": {
            "tags": []
          }
        }
      ]
    },
    {
      "cell_type": "code",
      "metadata": {
        "id": "MeR89eDcD-l1",
        "outputId": "2ae6b506-d026-4e45-9987-951d31d0b8c2"
      },
      "source": [
        "# デザイン設定\n",
        "sns.set_theme(style=\"white\")\n",
        "\n",
        "# 出力した相関係数一覧をcorrに代入\n",
        "corr = df.corr(method='spearman')\n",
        "\n",
        "# 下記はきれいに表示するためのカスタマイズなので特別期にしなくてよい\n",
        "# Generate a mask for the upper triangle\n",
        "mask = np.triu(np.ones_like(corr, dtype=bool))\n",
        "\n",
        "# Set up the matplotlib figure\n",
        "f, ax = plt.subplots(figsize=(11, 9))\n",
        "\n",
        "# Generate a custom diverging colormap\n",
        "cmap = sns.diverging_palette(230, 20, as_cmap=True)\n",
        "\n",
        "# 可視化\n",
        "sns.heatmap(corr, mask=mask, annot=True, cmap=cmap, center=0)"
      ],
      "execution_count": null,
      "outputs": [
        {
          "output_type": "execute_result",
          "data": {
            "text/plain": [
              "<AxesSubplot:>"
            ]
          },
          "metadata": {
            "tags": []
          },
          "execution_count": 52
        },
        {
          "output_type": "display_data",
          "data": {
            "image/png": "[encoded data removed]",
            "text/plain": [
              "<Figure size 792x648 with 2 Axes>"
            ]
          },
          "metadata": {
            "tags": []
          }
        }
      ]
    },
    {
      "cell_type": "code",
      "metadata": {
        "id": "EN-rEd4ND-l2",
        "outputId": "8c4ce8a0-3bcc-4795-aa82-6e10387d9d22"
      },
      "source": [
        "fig, (ax1, ax2) = plt.subplots(1, 2, figsize=(20, 7))\n",
        "\n",
        "sns.heatmap(corr, mask=mask, annot=True, cmap=cmap, center=0, ax=ax1)\n",
        "sns.heatmap(corr, mask=mask, annot=True, cmap=cmap, ax=ax2)"
      ],
      "execution_count": null,
      "outputs": [
        {
          "output_type": "execute_result",
          "data": {
            "text/plain": [
              "<AxesSubplot:>"
            ]
          },
          "metadata": {
            "tags": []
          },
          "execution_count": 53
        },
        {
          "output_type": "display_data",
          "data": {
            "image/png": "[encoded data removed]",
            "text/plain": [
              "<Figure size 1440x504 with 4 Axes>"
            ]
          },
          "metadata": {
            "tags": []
          }
        }
      ]
    },
    {
      "cell_type": "code",
      "metadata": {
        "id": "p7_3x90qD-l2"
      },
      "source": [
        ""
      ],
      "execution_count": null,
      "outputs": []
    }
  ]
}